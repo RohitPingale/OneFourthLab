{
 "cells": [
  {
   "cell_type": "code",
   "execution_count": 1,
   "metadata": {
    "_cell_guid": "b1076dfc-b9ad-4769-8c92-a6c4dae69d19",
    "_uuid": "8f2839f25d086af736a60e9eeb907d3b93b6e0e5"
   },
   "outputs": [
    {
     "name": "stdout",
     "output_type": "stream",
     "text": [
      "['data-preprocessing', 'padhai-module1-assignment']\n"
     ]
    }
   ],
   "source": [
    "# This Python 3 environment comes with many helpful analytics libraries installed\n",
    "# It is defined by the kaggle/python docker image: https://github.com/kaggle/docker-python\n",
    "# For example, here's several helpful packages to load in \n",
    "\n",
    "import numpy as np # linear algebra\n",
    "import pandas as pd # data processing, CSV file I/O (e.g. pd.read_csv)\n",
    "\n",
    "# Input data files are available in the \"../input/\" directory.\n",
    "# For example, running this (by clicking run or pressing Shift+Enter) will list the files in the input directory\n",
    "\n",
    "import os\n",
    "print(os.listdir(\"../input\"))\n",
    "\n",
    "# Any results you write to the current directory are saved as output."
   ]
  },
  {
   "cell_type": "code",
   "execution_count": 2,
   "metadata": {
    "_cell_guid": "79c7e3d0-c299-4dcb-8224-4455121ee9b0",
    "_uuid": "d629ff2d2480ee46fbb7e2d37f6b5fab8052498a"
   },
   "outputs": [],
   "source": [
    "import numpy as np\n",
    "import pandas as pd\n",
    "import matplotlib.pyplot as plt\n",
    "from sklearn.ensemble import ExtraTreesClassifier\n",
    "from sklearn.preprocessing import LabelEncoder,MinMaxScaler, StandardScaler\n",
    "from sklearn.model_selection import train_test_split, ParameterGrid\n",
    "from sklearn.metrics import accuracy_score, confusion_matrix, mean_squared_error, log_loss\n",
    "import operator\n",
    "import json\n",
    "from IPython import display\n",
    "import os\n",
    "import warnings\n",
    "from sklearn import preprocessing\n",
    "np.random.seed(0)\n",
    "warnings.filterwarnings(\"ignore\")\n",
    "THRESHOLD = 4\n"
   ]
  },
  {
   "cell_type": "code",
   "execution_count": 3,
   "metadata": {
    "_uuid": "987357b1d950f1176f3335878fda858fe0140bc0"
   },
   "outputs": [
    {
     "name": "stdout",
     "output_type": "stream",
     "text": [
      "Number of data points in train: 355\n",
      "Number of features in train: 99\n",
      "Number of data points in test: 119\n",
      "Number of features in test: 98\n"
     ]
    }
   ],
   "source": [
    "# # # read data from file\n",
    "#   train = pd.read_csv(io.BytesIO(uploaded['train.csv']))\n",
    "#   test = pd.read_csv(io.BytesIO(uploaded1['test.csv']))\n",
    "train = pd.read_csv(\"../input/padhai-module1-assignment/train.csv\") \n",
    "test = pd.read_csv(\"../input/padhai-module1-assignment/test.csv\")\n",
    "\n",
    "# check the number of features and data points in train\n",
    "print(\"Number of data points in train: %d\" % train.shape[0])\n",
    "print(\"Number of features in train: %d\" % train.shape[1])\n",
    "\n",
    "# check the number of features and data points in test\n",
    "print(\"Number of data points in test: %d\" % test.shape[0])\n",
    "print(\"Number of features in test: %d\" % test.shape[1])"
   ]
  },
  {
   "cell_type": "code",
   "execution_count": 4,
   "metadata": {
    "_uuid": "1eab5d1e6aca844ac31ddc89d27296283d8fc3c4"
   },
   "outputs": [],
   "source": [
    "def data_clean(data):\n",
    "\n",
    "    \n",
    "\n",
    "    # Let's first remove all missing value features\n",
    "\n",
    "    columns_to_remove = ['Also Known As','Applications','Audio Features','Bezel-less display'\n",
    "\n",
    "                         'Browser','Build Material','Co-Processor','Browser'\n",
    "\n",
    "                         'Display Colour','Mobile High-Definition Link(MHL)',\n",
    "\n",
    "                         'Music', 'Email','Fingerprint Sensor Position',\n",
    "\n",
    "                         'Games','HDMI','Heart Rate Monitor','IRIS Scanner', \n",
    "\n",
    "                         'Optical Image Stabilisation','Other Facilities',\n",
    "\n",
    "                         'Phone Book','Physical Aperture','Quick Charging',\n",
    "\n",
    "                         'Ring Tone','Ruggedness','SAR Value','SIM 3','SMS',\n",
    "\n",
    "                         'Screen Protection','Screen to Body Ratio (claimed by the brand)',\n",
    "\n",
    "                         'Sensor','Software Based Aperture', 'Special Features',\n",
    "\n",
    "                         'Standby time','Stylus','TalkTime', 'USB Type-C',\n",
    "\n",
    "                         'Video Player', 'Video Recording Features','Waterproof',\n",
    "\n",
    "                         'Wireless Charging','USB OTG Support', 'Video Recording','Java']\n",
    "\n",
    "\n",
    "\n",
    "    columns_to_retain = list(set(data.columns)-set(columns_to_remove))\n",
    "\n",
    "    data = data[columns_to_retain]\n",
    "\n",
    "\n",
    "    #Features having very low variance \n",
    "\n",
    "    columns_to_remove = ['Architecture','Audio Jack','GPS','Loudspeaker','Network','Network Support','VoLTE']\n",
    "\n",
    "    columns_to_retain = list(set(data.columns)-set(columns_to_remove))\n",
    "\n",
    "    data = data[columns_to_retain]\n",
    "\n",
    "\n",
    "\n",
    "    # Multivalued:\n",
    "\n",
    "    columns_to_remove = ['Architecture','Launch Date','Audio Jack','GPS','Loudspeaker','Network','Network Support','VoLTE', 'Custom UI']\n",
    "\n",
    "    columns_to_retain = list(set(data.columns)-set(columns_to_remove))\n",
    "\n",
    "    data = data[columns_to_retain]\n",
    "\n",
    "\n",
    "\n",
    "    # Not much important\n",
    "\n",
    "    columns_to_remove = ['Bluetooth', 'Settings','Wi-Fi','Wi-Fi Features']\n",
    "\n",
    "    columns_to_retain = list(set(data.columns)-set(columns_to_remove))\n",
    "\n",
    "    data = data[columns_to_retain]\n",
    "\n",
    "    \n",
    "\n",
    "    return data"
   ]
  },
  {
   "cell_type": "code",
   "execution_count": 5,
   "metadata": {
    "_uuid": "2397be3c35d88fdfbb132a46caa1011ca719f9ab"
   },
   "outputs": [],
   "source": [
    "train = data_clean(train)\n",
    "test = data_clean(test)"
   ]
  },
  {
   "cell_type": "code",
   "execution_count": 6,
   "metadata": {
    "_uuid": "8aa71515e3c601cf113018d27d4a2ba72ac0584b"
   },
   "outputs": [],
   "source": [
    "train = train[(train.isnull().sum(axis=1) <= 15)]\n",
    "# You shouldn't remove data points from test set\n",
    "#test = test[(test.isnull().sum(axis=1) <= 15)]"
   ]
  },
  {
   "cell_type": "code",
   "execution_count": 7,
   "metadata": {
    "_uuid": "6d017b7d83e56302845d05d59eae994fe731fc08"
   },
   "outputs": [
    {
     "name": "stdout",
     "output_type": "stream",
     "text": [
      "Number of data points in train: 341\n",
      "Number of features in train: 47\n",
      "Number of data points in test: 119\n",
      "Number of features in test: 46\n"
     ]
    }
   ],
   "source": [
    "# check the number of features and data points in train\n",
    "print(\"Number of data points in train: %d\" % train.shape[0])\n",
    "print(\"Number of features in train: %d\" % train.shape[1])\n",
    "\n",
    "# check the number of features and data points in test\n",
    "print(\"Number of data points in test: %d\" % test.shape[0])\n",
    "print(\"Number of features in test: %d\" % test.shape[1])"
   ]
  },
  {
   "cell_type": "code",
   "execution_count": 8,
   "metadata": {
    "_uuid": "0342a2e414d3e964e398e7d9d0b70537a519e4b9"
   },
   "outputs": [],
   "source": [
    "def for_integer(test):\n",
    "    try:\n",
    "        test = test.strip()\n",
    "        return int(test.split(' ')[0])\n",
    "    except IOError:\n",
    "           pass\n",
    "    except ValueError:\n",
    "        pass\n",
    "    except:\n",
    "        pass\n",
    "\n",
    "def for_string(test):\n",
    "    try:\n",
    "        test = test.strip()\n",
    "        return (test.split(' ')[0])\n",
    "    except IOError:\n",
    "        pass\n",
    "    except ValueError:\n",
    "        pass\n",
    "    except:\n",
    "        pass\n",
    "\n",
    "def for_float(test):\n",
    "    try:\n",
    "        test = test.strip()\n",
    "        return float(test.split(' ')[0])\n",
    "    except IOError:\n",
    "        pass\n",
    "    except ValueError:\n",
    "        pass\n",
    "    except:\n",
    "        pass\n",
    "def find_freq(test):\n",
    "    try:\n",
    "        test = test.strip()\n",
    "        test = test.split(' ')\n",
    "        if test[2][0] == '(':\n",
    "            return float(test[2][1:])\n",
    "        return float(test[2])\n",
    "    except IOError:\n",
    "        pass\n",
    "    except ValueError:\n",
    "        pass\n",
    "    except:\n",
    "        pass\n",
    "\n",
    "    \n",
    "def for_Internal_Memory(test):\n",
    "    try:\n",
    "        test = test.strip()\n",
    "        test = test.split(' ')\n",
    "        if test[1] == 'GB':\n",
    "            return int(test[0])\n",
    "        if test[1] == 'MB':\n",
    "#             print(\"here\")\n",
    "            return (int(test[0]) * 0.001)\n",
    "    except IOError:\n",
    "           pass\n",
    "    except ValueError:\n",
    "        pass\n",
    "    except:\n",
    "        pass\n",
    "    \n",
    "def find_freq(test):\n",
    "    try:\n",
    "        test = test.strip()\n",
    "        test = test.split(' ')\n",
    "        if test[2][0] == '(':\n",
    "            return float(test[2][1:])\n",
    "        return float(test[2])\n",
    "    except IOError:\n",
    "        pass\n",
    "    except ValueError:\n",
    "        pass\n",
    "    except:\n",
    "        pass\n"
   ]
  },
  {
   "cell_type": "code",
   "execution_count": 9,
   "metadata": {
    "_uuid": "9d74a3debbbbe0e2f4d71799b6ed3e2ee8dab66a"
   },
   "outputs": [],
   "source": [
    "def data_clean_2(x):\n",
    "    data = x.copy()\n",
    "    \n",
    "    data['Capacity'] = data['Capacity'].apply(for_integer)\n",
    "\n",
    "    data['Height'] = data['Height'].apply(for_float)\n",
    "    data['Height'] = data['Height'].fillna(data['Height'].mean())\n",
    "\n",
    "    data['Internal Memory'] = data['Internal Memory'].apply(for_Internal_Memory)\n",
    "\n",
    "    data['Pixel Density'] = data['Pixel Density'].apply(for_integer)\n",
    "\n",
    "    data['Internal Memory'] = data['Internal Memory'].fillna(data['Internal Memory'].median())\n",
    "    data['Internal Memory'] = data['Internal Memory'].astype(int)\n",
    "\n",
    "    data['RAM'] = data['RAM'].apply(for_integer)\n",
    "    data['RAM'] = data['RAM'].fillna(data['RAM'].median())\n",
    "    data['RAM'] = data['RAM'].astype(int)\n",
    "\n",
    "    data['Resolution'] = data['Resolution'].apply(for_integer)\n",
    "    data['Resolution'] = data['Resolution'].fillna(data['Resolution'].median())\n",
    "    data['Resolution'] = data['Resolution'].astype(int)\n",
    "\n",
    "    data['Screen Size'] = data['Screen Size'].apply(for_float)\n",
    "\n",
    "    data['Thickness'] = data['Thickness'].apply(for_float)\n",
    "    data['Thickness'] = data['Thickness'].fillna(data['Thickness'].mean())\n",
    "    data['Thickness'] = data['Thickness'].round(2)\n",
    "\n",
    "    data['Type'] = data['Type'].fillna('Li-Polymer')\n",
    "\n",
    "    data['Screen to Body Ratio (calculated)'] = data['Screen to Body Ratio (calculated)'].apply(for_float)\n",
    "    data['Screen to Body Ratio (calculated)'] = data['Screen to Body Ratio (calculated)'].fillna(data['Screen to Body Ratio (calculated)'].mean())\n",
    "    data['Screen to Body Ratio (calculated)'] = data['Screen to Body Ratio (calculated)'].round(2)\n",
    "\n",
    "    data['Width'] = data['Width'].apply(for_float)\n",
    "    data['Width'] = data['Width'].fillna(data['Width'].mean())\n",
    "    data['Width'] = data['Width'].round(2)\n",
    "\n",
    "    data['Flash'][data['Flash'].isna() == True] = \"Other\"\n",
    "\n",
    "    data['User Replaceable'][data['User Replaceable'].isna() == True] = \"Other\"\n",
    "\n",
    "    data['Num_cores'] = data['Processor'].apply(for_string)\n",
    "    data['Num_cores'][data['Num_cores'].isna() == True] = \"Other\"\n",
    "\n",
    "\n",
    "    data['Processor_frequency'] = data['Processor'].apply(find_freq)\n",
    "    #because there is one entry with 208MHz values, to convert it to GHz\n",
    "    data['Processor_frequency'][data['Processor_frequency'] > 200] = 0.208\n",
    "    data['Processor_frequency'] = data['Processor_frequency'].fillna(data['Processor_frequency'].mean())\n",
    "    data['Processor_frequency'] = data['Processor_frequency'].round(2)\n",
    "\n",
    "    data['Camera Features'][data['Camera Features'].isna() == True] = \"Other\"\n",
    "\n",
    "    #simplifyig Operating System to os_name for simplicity\n",
    "    data['os_name'] = data['Operating System'].apply(for_string)\n",
    "    data['os_name'][data['os_name'].isna() == True] = \"Other\"\n",
    "\n",
    "    data['Sim1'] = data['SIM 1'].apply(for_string)\n",
    "\n",
    "    data['SIM Size'][data['SIM Size'].isna() == True] = \"Other\"\n",
    "\n",
    "    data['Image Resolution'][data['Image Resolution'].isna() == True] = \"Other\"\n",
    "\n",
    "    data['Fingerprint Sensor'][data['Fingerprint Sensor'].isna() == True] = \"Other\"\n",
    "\n",
    "    data['Expandable Memory'][data['Expandable Memory'].isna() == True] = \"No\"\n",
    "\n",
    "    data['Weight'] = data['Weight'].apply(for_integer)\n",
    "    data['Weight'] = data['Weight'].fillna(data['Weight'].mean())\n",
    "    data['Weight'] = data['Weight'].astype(int)\n",
    "\n",
    "    data['SIM 2'] = data['SIM 2'].apply(for_string)\n",
    "    data['SIM 2'][data['SIM 2'].isna() == True] = \"Other\"\n",
    "    \n",
    "    return data"
   ]
  },
  {
   "cell_type": "code",
   "execution_count": 10,
   "metadata": {
    "_uuid": "8651e8915e269ab853ba55328ef827d77cc5c4b1"
   },
   "outputs": [
    {
     "name": "stdout",
     "output_type": "stream",
     "text": [
      "Number of data points in train: 341\n",
      "Number of features in train: 51\n",
      "Number of data points in test: 119\n",
      "Number of features in test: 50\n"
     ]
    }
   ],
   "source": [
    "train = data_clean_2(train)\n",
    "test = data_clean_2(test)\n",
    "\n",
    "# check the number of features and data points in train\n",
    "print(\"Number of data points in train: %d\" % train.shape[0])\n",
    "print(\"Number of features in train: %d\" % train.shape[1])\n",
    "\n",
    "# check the number of features and data points in test\n",
    "print(\"Number of data points in test: %d\" % test.shape[0])\n",
    "print(\"Number of features in test: %d\" % test.shape[1])"
   ]
  },
  {
   "cell_type": "code",
   "execution_count": 11,
   "metadata": {
    "_uuid": "0625b7008cedd4c2332f248c9795f063153ebf8f"
   },
   "outputs": [],
   "source": [
    "def data_clean_3(x):\n",
    "    \n",
    "    data = x.copy()\n",
    "\n",
    "    columns_to_remove = ['User Available Storage','SIM Size','Chipset','Processor','Autofocus','Aspect Ratio','Touch Screen',\n",
    "                        'Bezel-less display','Operating System','SIM 1','USB Connectivity','Other Sensors','Graphics','FM Radio',\n",
    "                        'NFC','Shooting Modes','Browser','Display Colour' ]\n",
    "\n",
    "    columns_to_retain = list(set(data.columns)-set(columns_to_remove))\n",
    "    data = data[columns_to_retain]\n",
    "\n",
    "\n",
    "    columns_to_remove = [ 'Screen Resolution','User Replaceable','Camera Features',\n",
    "                        'Thickness', 'Display Type']\n",
    "\n",
    "    columns_to_retain = list(set(data.columns)-set(columns_to_remove))\n",
    "    data = data[columns_to_retain]\n",
    "\n",
    "\n",
    "    columns_to_remove = ['Fingerprint Sensor', 'Flash', 'Rating Count', 'Review Count','Image Resolution','Type','Expandable Memory',\\\n",
    "                        'Colours','Width','Model']\n",
    "    columns_to_retain = list(set(data.columns)-set(columns_to_remove))\n",
    "    data = data[columns_to_retain]\n",
    "\n",
    "    return data"
   ]
  },
  {
   "cell_type": "code",
   "execution_count": 12,
   "metadata": {
    "_uuid": "f917dfbe071b237438009185cab68cbdb5ba2835"
   },
   "outputs": [
    {
     "name": "stdout",
     "output_type": "stream",
     "text": [
      "Number of data points in train: 341\n",
      "Number of features in train: 18\n",
      "Number of data points in test: 119\n",
      "Number of features in test: 17\n"
     ]
    }
   ],
   "source": [
    "train = data_clean_3(train)\n",
    "test = data_clean_3(test)\n",
    "\n",
    "# check the number of features and data points in train\n",
    "print(\"Number of data points in train: %d\" % train.shape[0])\n",
    "print(\"Number of features in train: %d\" % train.shape[1])\n",
    "\n",
    "# check the number of features and data points in test\n",
    "print(\"Number of data points in test: %d\" % test.shape[0])\n",
    "print(\"Number of features in test: %d\" % test.shape[1])"
   ]
  },
  {
   "cell_type": "code",
   "execution_count": 13,
   "metadata": {
    "_uuid": "f0c610c1cfc43534d344b0ccd07aa477cfed0194"
   },
   "outputs": [
    {
     "name": "stdout",
     "output_type": "stream",
     "text": [
      "(460, 17)\n",
      "Index(['PhoneId', 'Capacity', 'Weight', 'SIM 2', 'Internal Memory',\n",
      "       'Resolution', 'Processor_frequency', 'RAM', 'Screen Size', 'Brand',\n",
      "       'SIM Slot(s)', 'os_name', 'Height', 'Num_cores', 'Pixel Density',\n",
      "       'Screen to Body Ratio (calculated)', 'Sim1'],\n",
      "      dtype='object')\n",
      "(460, 87)\n",
      "Index(['PhoneId', 'Capacity', 'Weight', 'Internal Memory', 'Resolution',\n",
      "       'Processor_frequency', 'RAM', 'Screen Size', 'Height', 'Pixel Density',\n",
      "       'Screen to Body Ratio (calculated)', 'SIM 2_2G', 'SIM 2_3G', 'SIM 2_4G',\n",
      "       'SIM 2_Other', 'Brand_10.or', 'Brand_Apple', 'Brand_Asus',\n",
      "       'Brand_Billion', 'Brand_Blackberry', 'Brand_Comio', 'Brand_Coolpad',\n",
      "       'Brand_Do', 'Brand_Gionee', 'Brand_Google', 'Brand_HTC', 'Brand_Honor',\n",
      "       'Brand_Huawei', 'Brand_InFocus', 'Brand_Infinix', 'Brand_Intex',\n",
      "       'Brand_Itel', 'Brand_Jivi', 'Brand_Karbonn', 'Brand_LG', 'Brand_Lava',\n",
      "       'Brand_LeEco', 'Brand_Lenovo', 'Brand_Lephone', 'Brand_Lyf',\n",
      "       'Brand_Meizu', 'Brand_Micromax', 'Brand_Mobiistar', 'Brand_Moto',\n",
      "       'Brand_Motorola', 'Brand_Nokia', 'Brand_Nubia', 'Brand_OPPO',\n",
      "       'Brand_OnePlus', 'Brand_Oppo', 'Brand_Panasonic', 'Brand_Razer',\n",
      "       'Brand_Realme', 'Brand_Reliance', 'Brand_Samsung', 'Brand_Sony',\n",
      "       'Brand_Spice', 'Brand_Tecno', 'Brand_Ulefone', 'Brand_VOTO',\n",
      "       'Brand_Vivo', 'Brand_Xiaomi', 'Brand_Xiaomi Poco', 'Brand_Yu',\n",
      "       'Brand_iVooMi', 'SIM Slot(s)_Dual SIM, GSM+CDMA',\n",
      "       'SIM Slot(s)_Dual SIM, GSM+GSM',\n",
      "       'SIM Slot(s)_Dual SIM, GSM+GSM, Dual VoLTE',\n",
      "       'SIM Slot(s)_Single SIM, GSM', 'os_name_Android', 'os_name_Blackberry',\n",
      "       'os_name_KAI', 'os_name_Nokia', 'os_name_Other', 'os_name_Tizen',\n",
      "       'os_name_iOS', 'Num_cores_312', 'Num_cores_Deca', 'Num_cores_Dual',\n",
      "       'Num_cores_Hexa', 'Num_cores_Octa', 'Num_cores_Other', 'Num_cores_Quad',\n",
      "       'Num_cores_Tru-Octa', 'Sim1_2G', 'Sim1_3G', 'Sim1_4G'],\n",
      "      dtype='object')\n"
     ]
    }
   ],
   "source": [
    "train_ids = train['PhoneId']\n",
    "test_ids = test['PhoneId']\n",
    "\n",
    "cols = list(test.columns)\n",
    "cols.remove('PhoneId')\n",
    "cols.insert(0, 'PhoneId')\n",
    "\n",
    "combined = pd.concat([train.drop('Rating', axis=1)[cols], test[cols]])\n",
    "print(combined.shape)\n",
    "print(combined.columns)\n",
    "\n",
    "combined = pd.get_dummies(combined)\n",
    "print(combined.shape)\n",
    "print(combined.columns)\n",
    "\n",
    "train_new = combined[combined['PhoneId'].isin(train_ids)]\n",
    "test_new = combined[combined['PhoneId'].isin(test_ids)]"
   ]
  },
  {
   "cell_type": "code",
   "execution_count": 14,
   "metadata": {
    "_uuid": "0390dce78eb7f2b334c28181ff68cf6522c16d36"
   },
   "outputs": [],
   "source": [
    "train_new = train_new.merge(train[['PhoneId', 'Rating']], on='PhoneId')"
   ]
  },
  {
   "cell_type": "code",
   "execution_count": 15,
   "metadata": {
    "_uuid": "b24e403ca8b637916fc87048eb6e31aa8da8135d"
   },
   "outputs": [
    {
     "name": "stdout",
     "output_type": "stream",
     "text": [
      "Index(['PhoneId', 'Capacity', 'Weight', 'Internal Memory', 'Resolution',\n",
      "       'Processor_frequency', 'RAM', 'Screen Size', 'Height', 'Pixel Density',\n",
      "       'Screen to Body Ratio (calculated)', 'SIM 2_2G', 'SIM 2_3G', 'SIM 2_4G',\n",
      "       'SIM 2_Other', 'Brand_10.or', 'Brand_Apple', 'Brand_Asus',\n",
      "       'Brand_Billion', 'Brand_Blackberry', 'Brand_Comio', 'Brand_Coolpad',\n",
      "       'Brand_Do', 'Brand_Gionee', 'Brand_Google', 'Brand_HTC', 'Brand_Honor',\n",
      "       'Brand_Huawei', 'Brand_InFocus', 'Brand_Infinix', 'Brand_Intex',\n",
      "       'Brand_Itel', 'Brand_Jivi', 'Brand_Karbonn', 'Brand_LG', 'Brand_Lava',\n",
      "       'Brand_LeEco', 'Brand_Lenovo', 'Brand_Lephone', 'Brand_Lyf',\n",
      "       'Brand_Meizu', 'Brand_Micromax', 'Brand_Mobiistar', 'Brand_Moto',\n",
      "       'Brand_Motorola', 'Brand_Nokia', 'Brand_Nubia', 'Brand_OPPO',\n",
      "       'Brand_OnePlus', 'Brand_Oppo', 'Brand_Panasonic', 'Brand_Razer',\n",
      "       'Brand_Realme', 'Brand_Reliance', 'Brand_Samsung', 'Brand_Sony',\n",
      "       'Brand_Spice', 'Brand_Tecno', 'Brand_Ulefone', 'Brand_VOTO',\n",
      "       'Brand_Vivo', 'Brand_Xiaomi', 'Brand_Xiaomi Poco', 'Brand_Yu',\n",
      "       'Brand_iVooMi', 'SIM Slot(s)_Dual SIM, GSM+CDMA',\n",
      "       'SIM Slot(s)_Dual SIM, GSM+GSM',\n",
      "       'SIM Slot(s)_Dual SIM, GSM+GSM, Dual VoLTE',\n",
      "       'SIM Slot(s)_Single SIM, GSM', 'os_name_Android', 'os_name_Blackberry',\n",
      "       'os_name_KAI', 'os_name_Nokia', 'os_name_Other', 'os_name_Tizen',\n",
      "       'os_name_iOS', 'Num_cores_312', 'Num_cores_Deca', 'Num_cores_Dual',\n",
      "       'Num_cores_Hexa', 'Num_cores_Octa', 'Num_cores_Other', 'Num_cores_Quad',\n",
      "       'Num_cores_Tru-Octa', 'Sim1_2G', 'Sim1_3G', 'Sim1_4G'],\n",
      "      dtype='object')\n",
      "Index(['PhoneId', 'Capacity', 'Weight', 'Internal Memory', 'Resolution',\n",
      "       'Processor_frequency', 'RAM', 'Screen Size', 'Height', 'Pixel Density',\n",
      "       'Screen to Body Ratio (calculated)', 'SIM 2_2G', 'SIM 2_3G', 'SIM 2_4G',\n",
      "       'SIM 2_Other', 'Brand_10.or', 'Brand_Apple', 'Brand_Asus',\n",
      "       'Brand_Billion', 'Brand_Blackberry', 'Brand_Comio', 'Brand_Coolpad',\n",
      "       'Brand_Do', 'Brand_Gionee', 'Brand_Google', 'Brand_HTC', 'Brand_Honor',\n",
      "       'Brand_Huawei', 'Brand_InFocus', 'Brand_Infinix', 'Brand_Intex',\n",
      "       'Brand_Itel', 'Brand_Jivi', 'Brand_Karbonn', 'Brand_LG', 'Brand_Lava',\n",
      "       'Brand_LeEco', 'Brand_Lenovo', 'Brand_Lephone', 'Brand_Lyf',\n",
      "       'Brand_Meizu', 'Brand_Micromax', 'Brand_Mobiistar', 'Brand_Moto',\n",
      "       'Brand_Motorola', 'Brand_Nokia', 'Brand_Nubia', 'Brand_OPPO',\n",
      "       'Brand_OnePlus', 'Brand_Oppo', 'Brand_Panasonic', 'Brand_Razer',\n",
      "       'Brand_Realme', 'Brand_Reliance', 'Brand_Samsung', 'Brand_Sony',\n",
      "       'Brand_Spice', 'Brand_Tecno', 'Brand_Ulefone', 'Brand_VOTO',\n",
      "       'Brand_Vivo', 'Brand_Xiaomi', 'Brand_Xiaomi Poco', 'Brand_Yu',\n",
      "       'Brand_iVooMi', 'SIM Slot(s)_Dual SIM, GSM+CDMA',\n",
      "       'SIM Slot(s)_Dual SIM, GSM+GSM',\n",
      "       'SIM Slot(s)_Dual SIM, GSM+GSM, Dual VoLTE',\n",
      "       'SIM Slot(s)_Single SIM, GSM', 'os_name_Android', 'os_name_Blackberry',\n",
      "       'os_name_KAI', 'os_name_Nokia', 'os_name_Other', 'os_name_Tizen',\n",
      "       'os_name_iOS', 'Num_cores_312', 'Num_cores_Deca', 'Num_cores_Dual',\n",
      "       'Num_cores_Hexa', 'Num_cores_Octa', 'Num_cores_Other', 'Num_cores_Quad',\n",
      "       'Num_cores_Tru-Octa', 'Sim1_2G', 'Sim1_3G', 'Sim1_4G', 'Rating'],\n",
      "      dtype='object')\n"
     ]
    }
   ],
   "source": [
    "print(test_new.columns)\n",
    "print(train_new.columns)"
   ]
  },
  {
   "cell_type": "code",
   "execution_count": 16,
   "metadata": {
    "_uuid": "5edc03e57f09584759ba6302dec6087ffe6956ad"
   },
   "outputs": [
    {
     "name": "stdout",
     "output_type": "stream",
     "text": [
      "Number of data points in train: 341\n",
      "Number of features in train: 88\n",
      "Number of data points in test: 119\n",
      "Number of features in test: 87\n"
     ]
    }
   ],
   "source": [
    "# check the number of features and data points in train\n",
    "print(\"Number of data points in train: %d\" % train_new.shape[0])\n",
    "print(\"Number of features in train: %d\" % train_new.shape[1])\n",
    "\n",
    "# check the number of features and data points in test\n",
    "print(\"Number of data points in test: %d\" % test_new.shape[0])\n",
    "print(\"Number of features in test: %d\" % test_new.shape[1])"
   ]
  },
  {
   "cell_type": "code",
   "execution_count": 17,
   "metadata": {
    "_uuid": "94aff47b10f60c6e652c40d4ca04e46fbccd7d1a",
    "scrolled": true
   },
   "outputs": [
    {
     "name": "stdout",
     "output_type": "stream",
     "text": [
      "     Capacity  Weight  ...  Screen to Body Ratio (calculated)  Sim1\n",
      "0        4230     168  ...                              80.85    4G\n",
      "1        5000     205  ...                              81.60    4G\n",
      "2        3500     169  ...                              83.84    4G\n",
      "3        3500     169  ...                              83.84    4G\n",
      "4        4000     181  ...                              77.43    4G\n",
      "5        3500     191  ...                              75.67    4G\n",
      "6        5000     180  ...                              76.62    4G\n",
      "7        3000     146  ...                              72.68    4G\n",
      "8        3260     148  ...                              82.66    4G\n",
      "9        3000     154  ...                              76.28    4G\n",
      "10       4000     180  ...                              77.48    4G\n",
      "11       4230     168  ...                              80.85    4G\n",
      "12       3020     142  ...                              73.80    4G\n",
      "13       3500     177  ...                              76.15    4G\n",
      "14       2658     177  ...                              80.93    4G\n",
      "15       3700     183  ...                              85.34    4G\n",
      "16       4230     168  ...                              80.85    4G\n",
      "17       3260     150  ...                              84.91    4G\n",
      "18       3300     169  ...                              74.78    4G\n",
      "19       3000     175  ...                              71.04    4G\n",
      "20       3750     175  ...                              84.23    4G\n",
      "21       3340     165  ...                              77.01    4G\n",
      "22       3000     152  ...                              79.07    4G\n",
      "23       2600     153  ...                              66.14    4G\n",
      "24       3400     153  ...                              79.52    4G\n",
      "25       4000     200  ...                              76.78    4G\n",
      "26       2900     164  ...                              75.09    4G\n",
      "27       5000     180  ...                              76.62    4G\n",
      "28       5000     199  ...                              78.62    4G\n",
      "29       4000     178  ...                              79.24    4G\n",
      "..        ...     ...  ...                                ...   ...\n",
      "89       2000     135  ...                              64.47    3G\n",
      "90       3000     162  ...                              72.03    4G\n",
      "91       4350     197  ...                              71.86    4G\n",
      "92       2400     143  ...                              69.28    4G\n",
      "93       3000     168  ...                              70.12    4G\n",
      "94       3230     191  ...                              72.76    4G\n",
      "95       2600     160  ...                              65.86    4G\n",
      "96       2300     140  ...                              70.45    4G\n",
      "97       4000     145  ...                              68.93    4G\n",
      "98       4850     176  ...                              70.30    4G\n",
      "99       2700     164  ...                              71.96    4G\n",
      "100      1200     164  ...                              32.76    2G\n",
      "101      3050     138  ...                              72.95    4G\n",
      "102      3000     157  ...                              67.46    4G\n",
      "103      2000     145  ...                              66.23    4G\n",
      "104      3000     164  ...                              71.96    4G\n",
      "105      2500     154  ...                              63.69    4G\n",
      "106      3000     164  ...                              71.96    4G\n",
      "107      2600     130  ...                              72.12    3G\n",
      "108      3000     169  ...                              71.23    4G\n",
      "109      2650     142  ...                              68.98    4G\n",
      "110      3000     170  ...                              65.32    3G\n",
      "111      3000     146  ...                              68.74    4G\n",
      "112      1800     128  ...                              59.84    3G\n",
      "113      5000     170  ...                              67.68    4G\n",
      "114      4000     167  ...                              73.18    4G\n",
      "115      3500     189  ...                              83.99    4G\n",
      "116      3000     171  ...                              70.72    4G\n",
      "117      2700     159  ...                              68.66    4G\n",
      "118      2840     168  ...                              68.55    4G\n",
      "\n",
      "[119 rows x 17 columns]\n"
     ]
    }
   ],
   "source": [
    "train_new.describe()\n",
    "print(test)\n",
    "y_train  = train_new['Rating']\n",
    "train_new = train_new.drop(['Rating','PhoneId','Brand_10.or', 'Brand_Apple',\n",
    "       'Brand_Asus', 'Brand_Billion', 'Brand_Blackberry', 'Brand_Comio',\n",
    "       'Brand_Coolpad', 'Brand_Do', 'Brand_Gionee', 'Brand_Google',\n",
    "       'Brand_HTC', 'Brand_Honor', 'Brand_Huawei', 'Brand_InFocus',\n",
    "       'Brand_Infinix', 'Brand_Intex', 'Brand_Itel', 'Brand_Jivi',\n",
    "       'Brand_Karbonn', 'Brand_LG', 'Brand_Lava', 'Brand_LeEco',\n",
    "       'Brand_Lenovo', 'Brand_Lephone', 'Brand_Lyf', 'Brand_Meizu',\n",
    "       'Brand_Micromax', 'Brand_Mobiistar', 'Brand_Moto', 'Brand_Motorola',\n",
    "       'Brand_Nokia', 'Brand_Nubia', 'Brand_OPPO', 'Brand_OnePlus',\n",
    "       'Brand_Oppo', 'Brand_Panasonic', 'Brand_Razer', 'Brand_Realme',\n",
    "       'Brand_Reliance', 'Brand_Samsung', 'Brand_Sony', 'Brand_Spice',\n",
    "       'Brand_Tecno', 'Brand_Ulefone', 'Brand_VOTO', 'Brand_Vivo',\n",
    "       'Brand_Xiaomi', 'Brand_Xiaomi Poco', 'Brand_Yu', 'Brand_iVooMi',\n",
    "       'os_name_Android', 'os_name_Blackberry', 'os_name_KAI', 'os_name_Nokia',\n",
    "       'os_name_Other', 'os_name_Tizen', 'os_name_iOS',\n",
    "       'SIM Slot(s)_Dual SIM, GSM+CDMA', 'SIM Slot(s)_Dual SIM, GSM+GSM',\n",
    "       'SIM Slot(s)_Dual SIM, GSM+GSM, Dual VoLTE',\n",
    "       'SIM Slot(s)_Single SIM, GSM', 'Num_cores_312', 'Num_cores_Deca',\n",
    "       'Num_cores_Dual', 'Num_cores_Hexa', 'Num_cores_Octa', 'Num_cores_Other',\n",
    "       'Num_cores_Quad', 'Num_cores_Tru-Octa'],axis=1)"
   ]
  },
  {
   "cell_type": "code",
   "execution_count": 18,
   "metadata": {
    "_uuid": "8b0c7ef3b00764ddbfff9bd3aad7bf7f890e1f91"
   },
   "outputs": [
    {
     "name": "stdout",
     "output_type": "stream",
     "text": [
      "count    341.000000\n",
      "mean       4.072434\n",
      "std        0.377066\n",
      "min        2.500000\n",
      "25%        3.900000\n",
      "50%        4.100000\n",
      "75%        4.300000\n",
      "max        5.000000\n",
      "Name: Rating, dtype: float64\n"
     ]
    }
   ],
   "source": [
    "print(y_train.describe())\n",
    "y_train = y_train.map(lambda x: 0 if x<=4.00 else 1)"
   ]
  },
  {
   "cell_type": "code",
   "execution_count": 19,
   "metadata": {
    "_uuid": "d43d7b3f1f03b65ad34470781a97e8f54b973834"
   },
   "outputs": [],
   "source": [
    "columns = train_new.columns\n",
    "idcolo = test_new['PhoneId']\n",
    "\n",
    "# X_train_normalize = preprocessing.normalize(np.asarray(train_new))\n",
    "# train_new = pd.DataFrame(X_train_normalize,columns = columns )\n",
    "# X_test_normalize =  preprocessing.normalize(np.asarray(test_new))\n",
    "# test_new = pd.DataFrame(X_test_normalize,columns = columns)"
   ]
  },
  {
   "cell_type": "code",
   "execution_count": 20,
   "metadata": {
    "_uuid": "620b3f0c0958e167245a3b4201bd8dcc2b01817a"
   },
   "outputs": [],
   "source": [
    "# columns = train_new.columns\n",
    "# idcolo = test_new['PhoneId'] \n",
    "# Binarised_X_train = pd.DataFrame()\n",
    "# for i in train_new.columns:\n",
    "#   Binarised_X_train[i] = train_new[i].map(lambda x: 0 if x< 0.4 else 1)\n",
    "# X_Binarised_train = np.asarray(Binarised_X_train)\n",
    "# Binarised_X_test = pd.DataFrame()\n",
    "# for i in test_new.columns:\n",
    "#   Binarised_X_test[i] = test_new[i].map(lambda x: 0 if x< 0.4 else 1)\n",
    "# X_Binarised_test = np.asarray(Binarised_X_test)\n",
    "# train_new.to_csv(\"check.csv\", index=False)"
   ]
  },
  {
   "cell_type": "code",
   "execution_count": 21,
   "metadata": {
    "_uuid": "3373b6cad644624c06d154a62216fc43266b92b2"
   },
   "outputs": [
    {
     "name": "stdout",
     "output_type": "stream",
     "text": [
      "Index(['Capacity', 'Weight', 'Internal Memory', 'Resolution',\n",
      "       'Processor_frequency', 'RAM', 'Screen Size', 'Height', 'Pixel Density',\n",
      "       'Screen to Body Ratio (calculated)', 'SIM 2_2G', 'SIM 2_3G', 'SIM 2_4G',\n",
      "       'SIM 2_Other', 'Sim1_2G', 'Sim1_3G', 'Sim1_4G'],\n",
      "      dtype='object')\n"
     ]
    }
   ],
   "source": [
    "test_new = test_new.drop(['PhoneId','PhoneId', 'Brand_Apple',\n",
    "       'Brand_Asus', 'Brand_Billion', 'Brand_Blackberry', 'Brand_Comio',\n",
    "       'Brand_Coolpad', 'Brand_Do', 'Brand_Gionee', 'Brand_Google',\n",
    "       'Brand_HTC', 'Brand_Honor', 'Brand_Huawei', 'Brand_InFocus',\n",
    "       'Brand_Infinix', 'Brand_Intex', 'Brand_Itel', 'Brand_Jivi',\n",
    "       'Brand_Karbonn', 'Brand_LG', 'Brand_Lava', 'Brand_LeEco',\n",
    "       'Brand_Lenovo', 'Brand_Lephone', 'Brand_Lyf', 'Brand_Meizu',\n",
    "       'Brand_Micromax', 'Brand_Mobiistar', 'Brand_Moto', 'Brand_Motorola',\n",
    "       'Brand_Nokia', 'Brand_Nubia', 'Brand_OPPO', 'Brand_OnePlus',\n",
    "       'Brand_Oppo', 'Brand_Panasonic', 'Brand_Razer', 'Brand_Realme',\n",
    "       'Brand_Reliance', 'Brand_Samsung', 'Brand_Sony', 'Brand_Spice',\n",
    "       'Brand_Tecno', 'Brand_Ulefone', 'Brand_VOTO', 'Brand_Vivo',\n",
    "       'Brand_Xiaomi', 'Brand_Xiaomi Poco', 'Brand_Yu', 'Brand_iVooMi',\n",
    "       'os_name_Android', 'os_name_Blackberry', 'os_name_KAI', 'os_name_Nokia',\n",
    "       'os_name_Other', 'os_name_Tizen', 'os_name_iOS',\n",
    "       'SIM Slot(s)_Dual SIM, GSM+CDMA', 'SIM Slot(s)_Dual SIM, GSM+GSM',\n",
    "       'SIM Slot(s)_Dual SIM, GSM+GSM, Dual VoLTE',\n",
    "       'SIM Slot(s)_Single SIM, GSM', 'Num_cores_312', 'Num_cores_Deca',\n",
    "       'Num_cores_Dual', 'Num_cores_Hexa', 'Num_cores_Octa', 'Num_cores_Other',\n",
    "       'Num_cores_Quad', 'Num_cores_Tru-Octa'],axis=1)\n",
    "pd_binarised_X = train_new.apply(pd.cut,bins = 2 ,labels = [0,1])\n",
    "print(pd_binarised_X.columns)\n",
    "X_Binarised_train = np.asarray(pd_binarised_X)\n",
    "pd_binarised_X1 = test_new.apply(pd.cut,bins = 2 ,labels = [0,1])\n",
    "X_Binarised_test = np.asarray(pd_binarised_X1)"
   ]
  },
  {
   "cell_type": "code",
   "execution_count": 22,
   "metadata": {
    "_uuid": "5328d8a4f0f1f1fe9b8fea0a5d555c5ad33f77cf"
   },
   "outputs": [
    {
     "data": {
      "text/plain": [
       "count    341.000000\n",
       "mean       0.586510\n",
       "std        0.493183\n",
       "min        0.000000\n",
       "25%        0.000000\n",
       "50%        1.000000\n",
       "75%        1.000000\n",
       "max        1.000000\n",
       "Name: Rating, dtype: float64"
      ]
     },
     "execution_count": 22,
     "metadata": {},
     "output_type": "execute_result"
    }
   ],
   "source": [
    "y_train.describe()\n",
    "# pd_binarised_X.to_csv(\"checkb.csv\", index=False)"
   ]
  },
  {
   "cell_type": "code",
   "execution_count": 23,
   "metadata": {
    "_uuid": "0d960d3968613e75b30bffb2db991f72fd277548"
   },
   "outputs": [
    {
     "data": {
      "image/png": "[encoded data removed]",
      "text/plain": [
       "<Figure size 432x288 with 1 Axes>"
      ]
     },
     "metadata": {},
     "output_type": "display_data"
    }
   ],
   "source": [
    "plt.plot(train_new.T[:],'*')\n",
    "# plt.plot(X_Binarised_train.T,'*')\n",
    "plt.xticks(rotation='vertical')\n",
    "plt.show()\n"
   ]
  },
  {
   "cell_type": "code",
   "execution_count": 24,
   "metadata": {
    "_uuid": "20804c620761b2dfa237109a39c6d0c3cf98748b"
   },
   "outputs": [
    {
     "data": {
      "image/png": "[encoded data removed]",
      "text/plain": [
       "<Figure size 432x288 with 1 Axes>"
      ]
     },
     "metadata": {},
     "output_type": "display_data"
    }
   ],
   "source": [
    "plt.plot(X_Binarised_train.T,'*')\n",
    "plt.xticks(rotation='vertical')\n",
    "plt.show()"
   ]
  },
  {
   "cell_type": "code",
   "execution_count": 25,
   "metadata": {
    "_uuid": "ecb0fa8bcebfd53ac25feece2ebc0571b7189b5f"
   },
   "outputs": [],
   "source": [
    "class MPNeuron():\n",
    "  \n",
    "  def __init__(self):\n",
    "    self.b = None\n",
    "  \n",
    "  def model(self,x):\n",
    "    return 1 if  np.sum(x)>=self.b else 0      #accuracy_score([1,0,1],[True,True,True])\n",
    "  \n",
    "  def predict(self,X):\n",
    "    y = []\n",
    "    for x in X:\n",
    "      result = self.model(x)\n",
    "      y.append(result)\n",
    "    return np.asarray(y)\n",
    "  \n",
    "  def fit(self,X,Y,epochs = 2):\n",
    "    accuracy = {}\n",
    "    for epoch in range(epochs): \n",
    "        for b in range(X.shape[1]+1):\n",
    "          self.b = b\n",
    "          y_pred = self.predict(X)\n",
    "          accuracy[b] = accuracy_score(Y,y_pred) \n",
    "\n",
    "        best_b = max(accuracy,key = accuracy.get)\n",
    "        self.b = best_b\n",
    "    \n",
    "    print('Optimized b: ', best_b)\n",
    "    "
   ]
  },
  {
   "cell_type": "code",
   "execution_count": 26,
   "metadata": {
    "_uuid": "fee618a15b7f8cf269647a9becad7c477ce38a54"
   },
   "outputs": [
    {
     "name": "stdout",
     "output_type": "stream",
     "text": [
      "Optimized b:  6\n"
     ]
    }
   ],
   "source": [
    "mp_neuron = MPNeuron()\n",
    "mp_neuron.fit(X_Binarised_train,np.asarray(y_train))"
   ]
  },
  {
   "cell_type": "code",
   "execution_count": 27,
   "metadata": {
    "_uuid": "48d5e97d07971bc4ec6eea7b8a5331872d2b3d6c"
   },
   "outputs": [
    {
     "data": {
      "text/html": [
       "<div>\n",
       "<style scoped>\n",
       "    .dataframe tbody tr th:only-of-type {\n",
       "        vertical-align: middle;\n",
       "    }\n",
       "\n",
       "    .dataframe tbody tr th {\n",
       "        vertical-align: top;\n",
       "    }\n",
       "\n",
       "    .dataframe thead th {\n",
       "        text-align: right;\n",
       "    }\n",
       "</style>\n",
       "<table border=\"1\" class=\"dataframe\">\n",
       "  <thead>\n",
       "    <tr style=\"text-align: right;\">\n",
       "      <th></th>\n",
       "      <th>PhoneId</th>\n",
       "      <th>Class</th>\n",
       "    </tr>\n",
       "  </thead>\n",
       "  <tbody>\n",
       "    <tr>\n",
       "      <th>count</th>\n",
       "      <td>119.000000</td>\n",
       "      <td>119.000000</td>\n",
       "    </tr>\n",
       "    <tr>\n",
       "      <th>mean</th>\n",
       "      <td>240.176471</td>\n",
       "      <td>0.739496</td>\n",
       "    </tr>\n",
       "    <tr>\n",
       "      <th>std</th>\n",
       "      <td>136.804614</td>\n",
       "      <td>0.440766</td>\n",
       "    </tr>\n",
       "    <tr>\n",
       "      <th>min</th>\n",
       "      <td>3.000000</td>\n",
       "      <td>0.000000</td>\n",
       "    </tr>\n",
       "    <tr>\n",
       "      <th>25%</th>\n",
       "      <td>130.000000</td>\n",
       "      <td>0.000000</td>\n",
       "    </tr>\n",
       "    <tr>\n",
       "      <th>50%</th>\n",
       "      <td>245.000000</td>\n",
       "      <td>1.000000</td>\n",
       "    </tr>\n",
       "    <tr>\n",
       "      <th>75%</th>\n",
       "      <td>348.500000</td>\n",
       "      <td>1.000000</td>\n",
       "    </tr>\n",
       "    <tr>\n",
       "      <th>max</th>\n",
       "      <td>473.000000</td>\n",
       "      <td>1.000000</td>\n",
       "    </tr>\n",
       "  </tbody>\n",
       "</table>\n",
       "</div>"
      ],
      "text/plain": [
       "          PhoneId       Class\n",
       "count  119.000000  119.000000\n",
       "mean   240.176471    0.739496\n",
       "std    136.804614    0.440766\n",
       "min      3.000000    0.000000\n",
       "25%    130.000000    0.000000\n",
       "50%    245.000000    1.000000\n",
       "75%    348.500000    1.000000\n",
       "max    473.000000    1.000000"
      ]
     },
     "execution_count": 27,
     "metadata": {},
     "output_type": "execute_result"
    }
   ],
   "source": [
    "submission = pd.DataFrame({'PhoneId':idcolo, 'Class':[0]*test_new.shape[0]})\n",
    "submission['Class'] = mp_neuron.predict(X_Binarised_test)\n",
    "submission = submission[['PhoneId', 'Class']]\n",
    "submission.describe()"
   ]
  },
  {
   "cell_type": "code",
   "execution_count": 28,
   "metadata": {
    "_uuid": "0073318a47d864028f9c9bb3932ccad40fd612ba"
   },
   "outputs": [],
   "source": [
    "submission.to_csv(\"submission.csv\", index=False)"
   ]
  },
  {
   "cell_type": "code",
   "execution_count": 29,
   "metadata": {
    "_uuid": "389ae38709b0a99ab5a1f4aa1c8a67c5b6ff4c6c"
   },
   "outputs": [],
   "source": []
  },
  {
   "cell_type": "code",
   "execution_count": 29,
   "metadata": {
    "_uuid": "e8d5e1c821905b98bf2cad96059b38df97e7e422"
   },
   "outputs": [],
   "source": []
  },
  {
   "cell_type": "code",
   "execution_count": 29,
   "metadata": {
    "_uuid": "509beb56a8c469836a9d236a9bb37a2abc6b4355"
   },
   "outputs": [],
   "source": []
  },
  {
   "cell_type": "code",
   "execution_count": 29,
   "metadata": {
    "_uuid": "ff87c9227eaba535b845d67ec39ce64cbb468bbb"
   },
   "outputs": [],
   "source": []
  }
 ],
 "metadata": {
  "kernelspec": {
   "display_name": "Python 3",
   "language": "python",
   "name": "python3"
  },
  "language_info": {
   "codemirror_mode": {
    "name": "ipython",
    "version": 3
   },
   "file_extension": ".py",
   "mimetype": "text/x-python",
   "name": "python",
   "nbconvert_exporter": "python",
   "pygments_lexer": "ipython3",
   "version": "3.6.6"
  }
 },
 "nbformat": 4,
 "nbformat_minor": 1
}
